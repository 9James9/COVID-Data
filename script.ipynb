{
 "cells": [
  {
   "cell_type": "code",
   "execution_count": 18,
   "metadata": {},
   "outputs": [],
   "source": [
    "import requests\n",
    "import json"
   ]
  },
  {
   "cell_type": "code",
   "execution_count": 19,
   "metadata": {},
   "outputs": [],
   "source": [
    "def get_response():\n",
    "    print(\"Welcome to the COVID Data Tracker. Enter the date you would like to see: \")\n",
    "    year = input(\"Year (YYYY): \")\n",
    "    month = input(\"Month (MM): \")\n",
    "    day = input(\"Day (DD): \")\n",
    "    response = requests.get(\"https://api.covidtracking.com/v1/us/{}{}{}.json\".format(year,month,day))\n",
    "    return response"
   ]
  },
  {
   "cell_type": "code",
   "execution_count": 20,
   "metadata": {},
   "outputs": [
    {
     "name": "stdout",
     "output_type": "stream",
     "text": [
      "Welcome to the COVID Data Tracker. Enter the date you would like to see: \n",
      "{'date': 20201106, 'states': 56, 'positive': 9765503, 'negative': 42862789, 'pending': 11804, 'hospitalizedCurrently': 55005, 'hospitalizedCumulative': 379425, 'inIcuCurrently': 11213, 'inIcuCumulative': 25498, 'onVentilatorCurrently': 2850, 'onVentilatorCumulative': 2885, 'dateChecked': '2020-11-06T24:00:00Z', 'death': 228497, 'hospitalized': 379425, 'totalTestResults': 158667013, 'lastModified': '2020-11-06T24:00:00Z', 'recovered': None, 'total': 0, 'posNeg': 0, 'deathIncrease': 1185, 'hospitalizedIncrease': 3121, 'negativeIncrease': 314445, 'positiveIncrease': 129990, 'totalTestResultsIncrease': 1772955, 'hash': 'b616af7f48793ba11bd9ca0ee5f6d43d266f225f'}\n"
     ]
    }
   ],
   "source": [
    "response = get_response()\n",
    "print(response.json())"
   ]
  },
  {
   "cell_type": "code",
   "execution_count": 21,
   "metadata": {},
   "outputs": [
    {
     "name": "stdout",
     "output_type": "stream",
     "text": [
      "9765503\n"
     ]
    }
   ],
   "source": [
    "print(response.json()['positive'])"
   ]
  },
  {
   "cell_type": "code",
   "execution_count": 23,
   "metadata": {},
   "outputs": [
    {
     "name": "stdout",
     "output_type": "stream",
     "text": [
      "States infected: 56\n",
      "Covid positive: 9765503\n",
      "Tested Covid negative: 42862789\n",
      "Currently hospitalized: 55005\n"
     ]
    }
   ],
   "source": [
    "def return_data():\n",
    "    date = response.json()['date']\n",
    "    states_infected = response.json()['states']\n",
    "    positive = response.json()['positive']\n",
    "    negative = response.json()['negative']\n",
    "    currently_hospitalized = response.json()['hospitalizedCurrently']\n",
    "    print(\"States infected: \" + str(states_infected))\n",
    "    print(\"Covid positive: \" + str(positive))\n",
    "    print(\"Tested Covid negative: \" + str(negative))\n",
    "    print(\"Currently hospitalized: \" + str(currently_hospitalized))\n",
    "return_data()"
   ]
  }
 ],
 "metadata": {
  "interpreter": {
   "hash": "aee8b7b246df8f9039afb4144a1f6fd8d2ca17a180786b69acc140d282b71a49"
  },
  "kernelspec": {
   "display_name": "Python 3.9.7 64-bit",
   "language": "python",
   "name": "python3"
  },
  "language_info": {
   "codemirror_mode": {
    "name": "ipython",
    "version": 3
   },
   "file_extension": ".py",
   "mimetype": "text/x-python",
   "name": "python",
   "nbconvert_exporter": "python",
   "pygments_lexer": "ipython3",
   "version": "3.9.7"
  },
  "orig_nbformat": 4
 },
 "nbformat": 4,
 "nbformat_minor": 2
}
