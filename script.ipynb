{
 "cells": [
  {
   "cell_type": "code",
   "execution_count": 40,
   "metadata": {},
   "outputs": [],
   "source": [
    "import requests\n",
    "import json\n",
    "import matplotlib.pyplot as plt\n",
    "import numpy as np"
   ]
  },
  {
   "cell_type": "code",
   "execution_count": null,
   "metadata": {},
   "outputs": [],
   "source": []
  },
  {
   "cell_type": "code",
   "execution_count": 41,
   "metadata": {},
   "outputs": [],
   "source": [
    "def get_response():\n",
    "    print(\"Welcome to the COVID Data Tracker. Enter the date you would like to see: \")\n",
    "    year = input(\"Year (YYYY): \")\n",
    "    month = input(\"Month (MM): \")\n",
    "    day = input(\"Day (DD): \")\n",
    "    response = requests.get(\"https://api.covidtracking.com/v1/us/{}{}{}.json\".format(year,month,day))\n",
    "    return response"
   ]
  },
  {
   "cell_type": "code",
   "execution_count": 42,
   "metadata": {},
   "outputs": [
    {
     "name": "stdout",
     "output_type": "stream",
     "text": [
      "Welcome to the COVID Data Tracker. Enter the date you would like to see: \n",
      "{'date': 20200501, 'states': 56, 'positive': 1106124, 'negative': 2410267, 'pending': 1496, 'hospitalizedCurrently': 54888, 'hospitalizedCumulative': 54154, 'inIcuCurrently': 13572, 'inIcuCumulative': 4300, 'onVentilatorCurrently': 4712, 'onVentilatorCumulative': 376, 'dateChecked': '2020-05-01T24:00:00Z', 'death': 61458, 'hospitalized': 54154, 'totalTestResults': 6971878, 'lastModified': '2020-05-01T24:00:00Z', 'recovered': None, 'total': 0, 'posNeg': 0, 'deathIncrease': 1812, 'hospitalizedIncrease': 9055, 'negativeIncrease': 106658, 'positiveIncrease': 32880, 'totalTestResultsIncrease': 285664, 'hash': '080bbc8fa542224aa52356324b6001740c977219'}\n"
     ]
    }
   ],
   "source": [
    "response = get_response()\n",
    "print(response.json())"
   ]
  },
  {
   "cell_type": "code",
   "execution_count": 43,
   "metadata": {},
   "outputs": [
    {
     "name": "stdout",
     "output_type": "stream",
     "text": [
      "1106124\n"
     ]
    }
   ],
   "source": [
    "print(response.json()['positive'])"
   ]
  },
  {
   "cell_type": "code",
   "execution_count": 44,
   "metadata": {},
   "outputs": [
    {
     "name": "stdout",
     "output_type": "stream",
     "text": [
      "States infected: 56\n",
      "Covid positive: 1106124\n",
      "Tested Covid negative: 2410267\n",
      "Currently hospitalized: 54888\n"
     ]
    }
   ],
   "source": [
    "def return_data():\n",
    "    date = response.json()['date']\n",
    "    states_infected = response.json()['states']\n",
    "    positive = response.json()['positive']\n",
    "    negative = response.json()['negative']\n",
    "    currently_hospitalized = response.json()['hospitalizedCurrently']\n",
    "    print(\"States infected: \" + str(states_infected))\n",
    "    print(\"Covid positive: \" + str(positive))\n",
    "    print(\"Tested Covid negative: \" + str(negative))\n",
    "    print(\"Currently hospitalized: \" + str(currently_hospitalized))\n",
    "return_data()"
   ]
  },
  {
   "cell_type": "code",
   "execution_count": 48,
   "metadata": {},
   "outputs": [],
   "source": [
    "N = 1\n",
    "\n",
    "covidPositive = (response.json()[\"positive\"])\n",
    "covidNegative = (response.json()[\"negative\"])\n",
    "total = (covidNegative + covidPositive)\n",
    "percentPositive = round((covidPositive / total) * 100,2)\n",
    "percentNegative = 100 - percentPositive\n",
    "ind = np.arange(N)\n",
    "width = 0.35"
   ]
  },
  {
   "cell_type": "code",
   "execution_count": 50,
   "metadata": {},
   "outputs": [
    {
     "data": {
      "image/png": "[encoded data removed]",
      "text/plain": [
       "<Figure size 432x288 with 1 Axes>"
      ]
     },
     "metadata": {
      "needs_background": "light"
     },
     "output_type": "display_data"
    }
   ],
   "source": [
    "fig, ax = plt.subplots()\n",
    "\n",
    "p1 = ax.bar(ind, percentPositive, width, label='Positive')\n",
    "p2 = ax.bar(ind, percentNegative, width,\n",
    "            bottom=percentPositive, label='Negative')\n",
    "\n",
    "ax.axhline(0, color='grey', linewidth=0.8)\n",
    "ax.set_ylabel('Results')\n",
    "ax.set_title('Percent Positive and Negative COVID Tests by day')\n",
    "ax.set_xticks(ind, labels=['G1'])\n",
    "ax.legend()\n",
    "\n",
    "ax.bar_label(p1, label_type='center')\n",
    "ax.bar_label(p2, label_type='center')\n",
    "ax.bar_label(p2)\n",
    "\n",
    "plt.show()"
   ]
  }
 ],
 "metadata": {
  "interpreter": {
   "hash": "aee8b7b246df8f9039afb4144a1f6fd8d2ca17a180786b69acc140d282b71a49"
  },
  "kernelspec": {
   "display_name": "Python 3.9.7 64-bit",
   "language": "python",
   "name": "python3"
  },
  "language_info": {
   "codemirror_mode": {
    "name": "ipython",
    "version": 3
   },
   "file_extension": ".py",
   "mimetype": "text/x-python",
   "name": "python",
   "nbconvert_exporter": "python",
   "pygments_lexer": "ipython3",
   "version": "3.9.7"
  },
  "orig_nbformat": 4
 },
 "nbformat": 4,
 "nbformat_minor": 2
}
